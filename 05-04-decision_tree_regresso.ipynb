{
 "cells": [
  {
   "cell_type": "code",
   "execution_count": 83,
   "metadata": {},
   "outputs": [],
   "source": [
    "import numpy as np\n",
    "from sklearn.metrics import mean_squared_error\n",
    "from ml_from_scratch.tree import DecisionTreeRegressor\n",
    "import pandas as pd"
   ]
  },
  {
   "cell_type": "code",
   "execution_count": 57,
   "metadata": {},
   "outputs": [
    {
     "data": {
      "text/plain": [
       "array([0, 1, 2, ..., 8, 9, 8])"
      ]
     },
     "execution_count": 57,
     "metadata": {},
     "output_type": "execute_result"
    }
   ],
   "source": [
    "from sklearn.datasets import load_digits\n",
    "from sklearn.model_selection import train_test_split\n",
    "\n",
    "# LOAD DATA\n",
    "digits = load_digits()\n",
    "X = digits.data\n",
    "y = digits.target"
   ]
  },
  {
   "cell_type": "code",
   "execution_count": 58,
   "metadata": {},
   "outputs": [],
   "source": [
    "# SPLIT DATA\n",
    "\n",
    "X_train, X_test, y_train, y_test = train_test_split(X,\n",
    "                                                    y,\n",
    "                                                    test_size=0.3,\n",
    "                                                    stratify=y,\n",
    "                                                    random_state=3)"
   ]
  },
  {
   "cell_type": "code",
   "execution_count": 59,
   "metadata": {},
   "outputs": [],
   "source": [
    "# REGRESSION - A Very Fit Tree\n",
    "# Create a decision tree regressor\n",
    "# Using hyperparameter custom criteria with default max depth\n",
    "clf_mse = DecisionTreeRegressor(criteria='squared_error') # Menggunakan MSE\n",
    "clf_mae = DecisionTreeRegressor(criteria='absolute_error') # Menggunakan MAE\n",
    "clf_mse.fit(X_train, y_train)\n",
    "clf_mae.fit(X_train, y_train)"
   ]
  },
  {
   "cell_type": "code",
   "execution_count": 96,
   "metadata": {},
   "outputs": [
    {
     "name": "stdout",
     "output_type": "stream",
     "text": [
      "MSE train using MSE Criteria : 0.00955\n",
      "MSE test using MSE Criteria : 3.62315\n",
      "\n",
      "\n",
      "MSE train using MAE Criteria : 0.00955\n",
      "MSE test using MAE Criteria : 3.62315\n"
     ]
    }
   ],
   "source": [
    "# Predict & Calculate MSE score test\n",
    "y_pred_train_mse = clf_mse.predict(X_train)\n",
    "y_pred_test_mse = clf_mse.predict(X_test)\n",
    "\n",
    "y_pred_train_mae = clf_mae.predict(X_train)\n",
    "y_pred_test_mae = clf_mae.predict(X_test)\n",
    "\n",
    "print(f\"MSE train using MSE Criteria : {round(mean_squared_error(y_train, y_pred_train_mse),5)}\")\n",
    "print(f\"MSE test using MSE Criteria : {round(mean_squared_error(y_test, y_pred_test_mse),5)}\")\n",
    "print(\"\")\n",
    "print(\"\")\n",
    "print(f\"MSE train using MAE Criteria : {round(mean_squared_error(y_train, y_pred_train_mae),5)}\")\n",
    "print(f\"MSE test using MAE Criteria : {round(mean_squared_error(y_test, y_pred_test_mae),5)}\")"
   ]
  },
  {
   "cell_type": "code",
   "execution_count": 95,
   "metadata": {},
   "outputs": [
    {
     "data": {
      "text/html": [
       "<div>\n",
       "<style scoped>\n",
       "    .dataframe tbody tr th:only-of-type {\n",
       "        vertical-align: middle;\n",
       "    }\n",
       "\n",
       "    .dataframe tbody tr th {\n",
       "        vertical-align: top;\n",
       "    }\n",
       "\n",
       "    .dataframe thead th {\n",
       "        text-align: right;\n",
       "    }\n",
       "</style>\n",
       "<table border=\"1\" class=\"dataframe\">\n",
       "  <thead>\n",
       "    <tr style=\"text-align: right;\">\n",
       "      <th></th>\n",
       "      <th>MSE train</th>\n",
       "      <th>MSE test</th>\n",
       "      <th>P_Criterion</th>\n",
       "      <th>P_MaxDepth</th>\n",
       "    </tr>\n",
       "  </thead>\n",
       "  <tbody>\n",
       "    <tr>\n",
       "      <th>3</th>\n",
       "      <td>0.84296</td>\n",
       "      <td>3.04851</td>\n",
       "      <td>squared_error</td>\n",
       "      <td>7</td>\n",
       "    </tr>\n",
       "    <tr>\n",
       "      <th>4</th>\n",
       "      <td>0.16479</td>\n",
       "      <td>3.33867</td>\n",
       "      <td>squared_error</td>\n",
       "      <td>9</td>\n",
       "    </tr>\n",
       "    <tr>\n",
       "      <th>2</th>\n",
       "      <td>2.46908</td>\n",
       "      <td>3.40050</td>\n",
       "      <td>squared_error</td>\n",
       "      <td>5</td>\n",
       "    </tr>\n",
       "    <tr>\n",
       "      <th>5</th>\n",
       "      <td>0.02413</td>\n",
       "      <td>3.55570</td>\n",
       "      <td>squared_error</td>\n",
       "      <td>12</td>\n",
       "    </tr>\n",
       "    <tr>\n",
       "      <th>10</th>\n",
       "      <td>0.55902</td>\n",
       "      <td>3.97402</td>\n",
       "      <td>absolute_error</td>\n",
       "      <td>9</td>\n",
       "    </tr>\n",
       "    <tr>\n",
       "      <th>9</th>\n",
       "      <td>1.43537</td>\n",
       "      <td>3.99471</td>\n",
       "      <td>absolute_error</td>\n",
       "      <td>7</td>\n",
       "    </tr>\n",
       "    <tr>\n",
       "      <th>11</th>\n",
       "      <td>0.19532</td>\n",
       "      <td>4.10023</td>\n",
       "      <td>absolute_error</td>\n",
       "      <td>12</td>\n",
       "    </tr>\n",
       "    <tr>\n",
       "      <th>8</th>\n",
       "      <td>3.00876</td>\n",
       "      <td>4.41680</td>\n",
       "      <td>absolute_error</td>\n",
       "      <td>5</td>\n",
       "    </tr>\n",
       "    <tr>\n",
       "      <th>1</th>\n",
       "      <td>5.12117</td>\n",
       "      <td>5.60433</td>\n",
       "      <td>squared_error</td>\n",
       "      <td>3</td>\n",
       "    </tr>\n",
       "    <tr>\n",
       "      <th>7</th>\n",
       "      <td>5.21733</td>\n",
       "      <td>5.68392</td>\n",
       "      <td>absolute_error</td>\n",
       "      <td>3</td>\n",
       "    </tr>\n",
       "    <tr>\n",
       "      <th>0</th>\n",
       "      <td>6.96961</td>\n",
       "      <td>7.72081</td>\n",
       "      <td>squared_error</td>\n",
       "      <td>1</td>\n",
       "    </tr>\n",
       "    <tr>\n",
       "      <th>6</th>\n",
       "      <td>6.96961</td>\n",
       "      <td>7.72081</td>\n",
       "      <td>absolute_error</td>\n",
       "      <td>1</td>\n",
       "    </tr>\n",
       "  </tbody>\n",
       "</table>\n",
       "</div>"
      ],
      "text/plain": [
       "    MSE train  MSE test     P_Criterion  P_MaxDepth\n",
       "3     0.84296   3.04851   squared_error           7\n",
       "4     0.16479   3.33867   squared_error           9\n",
       "2     2.46908   3.40050   squared_error           5\n",
       "5     0.02413   3.55570   squared_error          12\n",
       "10    0.55902   3.97402  absolute_error           9\n",
       "9     1.43537   3.99471  absolute_error           7\n",
       "11    0.19532   4.10023  absolute_error          12\n",
       "8     3.00876   4.41680  absolute_error           5\n",
       "1     5.12117   5.60433   squared_error           3\n",
       "7     5.21733   5.68392  absolute_error           3\n",
       "0     6.96961   7.72081   squared_error           1\n",
       "6     6.96961   7.72081  absolute_error           1"
      ]
     },
     "execution_count": 95,
     "metadata": {},
     "output_type": "execute_result"
    }
   ],
   "source": [
    "# Define parameter possibilities as lists\n",
    "p_criterion = ['squared_error', 'absolute_error']\n",
    "p_max_depth = [1,3,5,7,9,12]\n",
    "# Define place holder for score\n",
    "results = []\n",
    "\n",
    "# Nested loops - we need to test for all combinations\n",
    "for criterion in p_criterion:\n",
    "    for max_depth in p_max_depth:\n",
    "        # Train the model\n",
    "        model = DecisionTreeRegressor(\n",
    "            criteria=criterion,\n",
    "            max_depth=max_depth\n",
    "        )\n",
    "        model.fit(X_train, y_train)\n",
    "        trains = model.predict(X_train)\n",
    "        preds = model.predict(X_test)\n",
    "        # Append current results\n",
    "        results.append({\n",
    "            'MSE train': round(mean_squared_error(y_train, trains), 5),\n",
    "            'MSE test': round(mean_squared_error(y_test, preds), 5),\n",
    "            'P_Criterion': criterion,\n",
    "            'P_MaxDepth': max_depth\n",
    "        })\n",
    "        \n",
    "results = pd.DataFrame(results)\n",
    "results = results.sort_values(by='MSE test', ascending=True)\n",
    "results"
   ]
  }
 ],
 "metadata": {
  "kernelspec": {
   "display_name": "Python 3",
   "language": "python",
   "name": "python3"
  },
  "language_info": {
   "codemirror_mode": {
    "name": "ipython",
    "version": 3
   },
   "file_extension": ".py",
   "mimetype": "text/x-python",
   "name": "python",
   "nbconvert_exporter": "python",
   "pygments_lexer": "ipython3",
   "version": "3.10.4"
  },
  "orig_nbformat": 4
 },
 "nbformat": 4,
 "nbformat_minor": 2
}
